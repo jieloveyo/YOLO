{
 "cells": [
  {
   "attachments": {},
   "cell_type": "markdown",
   "metadata": {},
   "source": [
    "## 前言\n",
    "\n",
    "计算机视觉，最基本的任务是图像分类，在此基础上，还有更加复杂和有意思的任务，如：目标检测、物体定位、图像分割。\n",
    "如图所示，其中目标检测是一件比较实际的且具有挑战性的计算机视觉任务，其可以看成**图像分类与定位的结合**  \n",
    "给定一张图片，**目标检测系统要能够识别出图片的目标并给出其位置**，由于图片中目标数是不定的，且要给出目标的精确位置，目标检测相比分类任务更复杂。  \n",
    "目标检测的一个实际应用场景就是无人驾驶，如果能够在无人车上装载一个有效的目标检测系统，那么无人车将和人一样有了眼睛，可以快速地检测出前面的行人与车辆，从而作出实时决策。\n",
    "![](https://pic3.zhimg.com/80/v2-4a8db9d67ca78afe04d5610e31e6061a_1440w.jpg)\n",
    "\n",
    "# YOLO\n",
    "### You Only Look Once: Unified, Real-Time Object Detection\n",
    "\n",
    "![](https://pic4.zhimg.com/80/v2-d37bcff4e377a514aabfb0e371ccdf7b_1440w.jpg)\n",
    "\n",
    "![](![image.png](attachment:image.png))\n",
    "\n",
    "![](https://pic2.zhimg.com/80/v2-fdfea5fcb4ff3ecc327758878e4ad6e1_1440w.jpg)\n",
    "\n",
    "![](5.png)\n",
    "![](6.png)\n",
    "![](7.png)\n",
    "\n",
    "![](https://pic3.zhimg.com/80/v2-258df167ee37b5594c72562b4ae61d1a_1440w.jpg)"
   ]
  }
 ],
 "metadata": {
  "kernelspec": {
   "display_name": "Pytorch for Deeplearing",
   "language": "python",
   "name": "pytorch"
  },
  "language_info": {
   "codemirror_mode": {
    "name": "ipython",
    "version": 3
   },
   "file_extension": ".py",
   "mimetype": "text/x-python",
   "name": "python",
   "nbconvert_exporter": "python",
   "pygments_lexer": "ipython3",
   "version": "3.7.4"
  }
 },
 "nbformat": 4,
 "nbformat_minor": 2
}
